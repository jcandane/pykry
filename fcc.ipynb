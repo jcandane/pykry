{
  "nbformat": 4,
  "nbformat_minor": 0,
  "metadata": {
    "colab": {
      "name": "fcc.ipynb",
      "provenance": [],
      "authorship_tag": "ABX9TyMIepgyhyXjK6F7jELCyMRj",
      "include_colab_link": true
    },
    "kernelspec": {
      "name": "python3",
      "display_name": "Python 3"
    },
    "language_info": {
      "name": "python"
    }
  },
  "cells": [
    {
      "cell_type": "markdown",
      "metadata": {
        "id": "view-in-github",
        "colab_type": "text"
      },
      "source": [
        "<a href=\"https://colab.research.google.com/github/jcandane/pykry/blob/main/fcc.ipynb\" target=\"_parent\"><img src=\"https://colab.research.google.com/assets/colab-badge.svg\" alt=\"Open In Colab\"/></a>"
      ]
    },
    {
      "cell_type": "code",
      "execution_count": 1,
      "metadata": {
        "id": "EF5AsR_AE080"
      },
      "outputs": [],
      "source": [
        "import numpy as np\n",
        "\n",
        "def strr(X):\n",
        "  return np.format_float_positional(X, unique=False, precision=5, pad_left=True)"
      ]
    },
    {
      "cell_type": "markdown",
      "source": [
        "$\\left( \\sum_x \\left( \\frac{R^2_{ix}}{\\left( a \\ell_x/2\\right)^2} \\right)_{ix} \\right)_i < 1$"
      ],
      "metadata": {
        "id": "8eDquv-vhwCs"
      }
    },
    {
      "cell_type": "code",
      "source": [
        "def FCClattice(a, la, lb, lc, sphere=False, element=None):\n",
        "    \"\"\"\n",
        "    GIVEN:  a lattice constant\n",
        "            la, lb, lc (number of unit cells in each direction)\n",
        "            **sphere (option to get ellipsoid cutout)\n",
        "            **element (option to give element type)\n",
        "    GET:    R_ix, all positions in the full crystal\n",
        "            **Z, return array with element type\n",
        "    \"\"\"\n",
        "\n",
        "    R_ix_in  = np.array([[0.,0.,0.],[np.sqrt(2)/2,np.sqrt(2)/2,0.],[np.sqrt(2)/2.,0.,np.sqrt(2)/2.],[0., np.sqrt(2)/2.,np.sqrt(2)/2.]])\n",
        "    R_ix_in *= a/np.sqrt(2)\n",
        "\n",
        "    x_   = a * np.arange(0, la, 1)\n",
        "    y_   = a * np.arange(0, lb, 1)\n",
        "    z_   = a * np.arange(0, lc, 1)\n",
        "    R_Ix = np.array(np.meshgrid(x_, y_, z_))\n",
        "    R_Ix = R_Ix.reshape( (3, len(x_)*len(y_)*len(z_)) , order=\"C\").T\n",
        "\n",
        "    if sphere:\n",
        "        center = np.array([la*a, lb*a, lc*a])/2\n",
        "        ll = (np.array([la, lb, lc]) * a/2)**2\n",
        "        R_Ix = R_Ix[ np.sum( ( R_Ix - center[None,:] )**2 / ll[None,:], axis = 1 ) < 1 ]\n",
        "\n",
        "    R_ix = (R_ix_in[None, :, :] + R_Ix[:,None,:]).reshape((R_Ix.shape[0]*R_ix_in.shape[0], 3), order=\"C\")\n",
        "\n",
        "    if element is not None:\n",
        "        return np.tile(element, len(R_ix)), R_ix\n",
        "    else:\n",
        "        return R_ix"
      ],
      "metadata": {
        "id": "hfuSY_87ZKNq"
      },
      "execution_count": 2,
      "outputs": []
    },
    {
      "cell_type": "code",
      "source": [
        "### inputs\n",
        "å = 5.26 ## Å, lattice parameter\n",
        "l = 33\n",
        "\n",
        "la = l\n",
        "lb = l\n",
        "lc = l\n",
        "\n",
        "center = np.array([la*å, lb*å, lc*å])/2\n",
        "\n",
        "x_  = np.arange(0, la, 1)*å\n",
        "y_  = np.arange(0, lb, 1)*å\n",
        "z_  = np.arange(0, lc, 1)*å\n",
        "xyz = np.array(np.meshgrid(x_, y_, z_))\n",
        "\n",
        "R_Ix = xyz.reshape( (3, len(x_)*len(y_)*len(z_)) , order=\"C\").T"
      ],
      "metadata": {
        "id": "v4uzDwyAE-Yk"
      },
      "execution_count": 3,
      "outputs": []
    },
    {
      "cell_type": "markdown",
      "source": [
        "Chop to get Sphere"
      ],
      "metadata": {
        "id": "zdoiEoozVXZz"
      }
    },
    {
      "cell_type": "code",
      "source": [
        "R_Ix = R_Ix[ np.linalg.norm( R_Ix - center[None,:], axis=1) < l*å/2 ]\n",
        "R_Ix.shape"
      ],
      "metadata": {
        "colab": {
          "base_uri": "https://localhost:8080/"
        },
        "id": "upWpVEtcUMl7",
        "outputId": "fd95eff9-d1af-4503-82e4-62d617e1189f"
      },
      "execution_count": 4,
      "outputs": [
        {
          "output_type": "execute_result",
          "data": {
            "text/plain": [
              "(18656, 3)"
            ]
          },
          "metadata": {},
          "execution_count": 4
        }
      ]
    },
    {
      "cell_type": "markdown",
      "source": [
        "Get Unit Cell Vectors"
      ],
      "metadata": {
        "id": "4VsNhnEEXlgh"
      }
    },
    {
      "cell_type": "code",
      "source": [
        "R_ix_in = np.array([[0.,0.,0.],[np.sqrt(2)/2,np.sqrt(2)/2,0.],[np.sqrt(2)/2.,0.,np.sqrt(2)/2.],[0., np.sqrt(2)/2.,np.sqrt(2)/2.]])* (å/np.sqrt(2))\n",
        "R_ix_in"
      ],
      "metadata": {
        "colab": {
          "base_uri": "https://localhost:8080/"
        },
        "id": "HBs_vAymFS5E",
        "outputId": "bb4aefcd-c3b6-4ad9-d169-e61b0bf285b7"
      },
      "execution_count": 5,
      "outputs": [
        {
          "output_type": "execute_result",
          "data": {
            "text/plain": [
              "array([[0.  , 0.  , 0.  ],\n",
              "       [2.63, 2.63, 0.  ],\n",
              "       [2.63, 0.  , 2.63],\n",
              "       [0.  , 2.63, 2.63]])"
            ]
          },
          "metadata": {},
          "execution_count": 5
        }
      ]
    },
    {
      "cell_type": "code",
      "source": [
        "R_Iix = (R_ix_in[None, :, :] + R_Ix[:,None,:])\n",
        "\n",
        "R_ix = R_Iix.reshape((R_Ix.shape[0]*R_ix_in.shape[0], 3), order=\"C\")\n",
        "R_ix.shape"
      ],
      "metadata": {
        "colab": {
          "base_uri": "https://localhost:8080/"
        },
        "id": "Cw0DXQfrG2JA",
        "outputId": "66d2e540-2887-4177-e548-9dd865e3e73e"
      },
      "execution_count": 6,
      "outputs": [
        {
          "output_type": "execute_result",
          "data": {
            "text/plain": [
              "(74624, 3)"
            ]
          },
          "metadata": {},
          "execution_count": 6
        }
      ]
    },
    {
      "cell_type": "code",
      "source": [
        "string = str(len(R_ix)) + \"\\n\\t\\n\"\n",
        "for i in range(len(R_ix)):\n",
        "    string += \"Ar  \" + strr(R_ix[i,0]) + \"  \" + strr(R_ix[i,1]) + \"  \" + strr(R_ix[i,2]) + \" \\n\"\n",
        "\n",
        "file1 = open(\"argoncrystal.xyz\", \"w\")  # write mode\n",
        "file1.write(string)\n",
        "file1.close()"
      ],
      "metadata": {
        "id": "NPcndChiHL8O"
      },
      "execution_count": 7,
      "outputs": []
    },
    {
      "cell_type": "code",
      "source": [
        "Z, R_ix = FCClattice(5.26, 60, 30, 30, sphere=True, element=18)\n",
        "\n",
        "string = str(len(R_ix)) + \"\\n\\t\\n\"\n",
        "for i in range(len(R_ix)):\n",
        "    #string += \"Ar  \" + strr(R_ix[i,0]) + \"  \" + strr(R_ix[i,1]) + \"  \" + strr(R_ix[i,2]) + \" \\n\"\n",
        "    string += str(Z[i]) + \"  \" + strr(R_ix[i,0]) + \"  \" + strr(R_ix[i,1]) + \"  \" + strr(R_ix[i,2]) + \" \\n\"\n",
        "\n",
        "file1 = open(\"argoncrystal.xyz\", \"w\")  # write mode\n",
        "file1.write(string)\n",
        "file1.close()"
      ],
      "metadata": {
        "id": "2i7Flt1HKEG9"
      },
      "execution_count": 8,
      "outputs": []
    },
    {
      "cell_type": "code",
      "source": [
        "!git clone https://github.com/jcandane/pyprototyp\n",
        "from pyprototyp.pyprototyp import pyprototyp\n",
        "pyprototyp(\"fcc\", packages=[], useful=[], defs=[FCClattice], classes=[])"
      ],
      "metadata": {
        "colab": {
          "base_uri": "https://localhost:8080/"
        },
        "id": "Nw7xRuj8jBQH",
        "outputId": "34d3a622-85f2-41d8-fd8d-d6be252f2476"
      },
      "execution_count": 9,
      "outputs": [
        {
          "output_type": "stream",
          "name": "stdout",
          "text": [
            "Cloning into 'pyprototyp'...\n",
            "remote: Enumerating objects: 32, done.\u001b[K\n",
            "remote: Counting objects: 100% (32/32), done.\u001b[K\n",
            "remote: Compressing objects: 100% (29/29), done.\u001b[K\n",
            "remote: Total 32 (delta 6), reused 0 (delta 0), pack-reused 0\u001b[K\n",
            "Unpacking objects: 100% (32/32), done.\n"
          ]
        }
      ]
    }
  ]
}