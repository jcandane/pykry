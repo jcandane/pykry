{
  "nbformat": 4,
  "nbformat_minor": 0,
  "metadata": {
    "colab": {
      "name": "fcc.ipynb",
      "provenance": [],
      "include_colab_link": true
    },
    "kernelspec": {
      "name": "python3",
      "display_name": "Python 3"
    },
    "language_info": {
      "name": "python"
    }
  },
  "cells": [
    {
      "cell_type": "markdown",
      "metadata": {
        "id": "view-in-github",
        "colab_type": "text"
      },
      "source": [
        "<a href=\"https://colab.research.google.com/github/jcandane/pykry/blob/main/fcc.ipynb\" target=\"_parent\"><img src=\"https://colab.research.google.com/assets/colab-badge.svg\" alt=\"Open In Colab\"/></a>"
      ]
    },
    {
      "cell_type": "code",
      "execution_count": 1,
      "metadata": {
        "id": "EF5AsR_AE080"
      },
      "outputs": [],
      "source": [
        "import numpy as np\n",
        "\n",
        "def strr(X):\n",
        "  return np.format_float_positional(X, unique=False, precision=5, pad_left=True)"
      ]
    },
    {
      "cell_type": "markdown",
      "source": [
        "$\\left( \\sum_x \\left( \\frac{R^2_{ix}}{\\left( a \\ell_x/2\\right)^2} \\right)_{ix} \\right)_i < 1$"
      ],
      "metadata": {
        "id": "8eDquv-vhwCs"
      }
    },
    {
      "cell_type": "code",
      "source": [
        "def FCClattice(a, element, la, lb, lc, sphere=False, CoM=np.zeros(3), names=False):\n",
        "    \"\"\"\n",
        "    GIVEN:  a (lattice constant)\n",
        "            element (atomic number)\n",
        "            la, lb, lc (number of unit cells in each direction)\n",
        "            **sphere (option to get ellipsoid cutout)\n",
        "            **CoM (option to set the Center-of-Mass, default is (0,0,0))\n",
        "            **names (option to return element names)\n",
        "    GET:    Z     (array with atomic number)\n",
        "            R_ix  (all positions in the full crystal)\n",
        "            m_i   (get mass array)\n",
        "    \"\"\"\n",
        "\n",
        "    Z_mass = np.array([ 1.,   1837.,   7297.,  \n",
        "                   12650., 16427.,  19705.,  21894.,  25533.,  29164.,  34631., 36785.,  \n",
        "                   41908., 44305.,  49185.,  51195.,  56462.,  58441.,  64621.,  72820.,  \n",
        "                   71271., 73057.,  81949.,  87256.,  92861.,  94782., 100145., 101799., 107428., 106990., 115837., 119180., 127097., 132396., 136574., 143955., 145656., 152754.,\n",
        "                   155798., 159721., 162065., 166291., 169357., 174906., 176820., 184239., 187586., 193991., 196631., 204918., 209300., 216395., 221954., 232600., 231331., 239332., \n",
        "                   242270., 250331., 253208., 255415., 256859., 262937., 264318., 274089., 277013., 286649., 289702., 296219., 300649., 304894., 307947., 315441., 318945., 325367., 329848., 335119., 339434., 346768., 350390., 355616., 359048., 365656., 372561., 377702., 380947., 380983., 382806., 404681.,\n",
        "                   406504., 411972., 413795., 422979., 421152., 433900., 432024., 444784., 442961., 450253., 450253., 457545., 459367., 468482., 470305., 472128., 477596., 486711., 492179., 490357., 492179., 492179., 506763., 512231., 512231., 519523., 521346., 526814., 526814., 534106., 534106., 535929.])\n",
        "\n",
        "    Atom_Names = np.array([\"e \", \"H \", \"He\", \n",
        "    \"Li\", \"Be\", \"B \", \"C \", \"N \", \"O \", \"F \", \"Ne\", \n",
        "    \"Na\", \"Mg\", \"Al\", \"Si\", \"P \", \"S \", \"Cl\", \"Ar\", \n",
        "    \"K \", \"Ca\", \"Sc\", \"Ti\", \"V \", \"Cr\", \"Mn\", \"Fe\", \"Co\", \"Ni\", \"Cu\", \"Zn\", \"Ga\", \"Ge\", \"As\", \"Se\", \"Br\", \"Kr\", \n",
        "    \"Rb\", \"Sr\", \"Y \", \"Zr\", \"Nb\", \"Mo\", \"Tc\", \"Ru\", \"Rh\", \"Pd\", \"Ag\", \"Cd\", \"In\", \"Sn\", \"Sb\", \"Te\", \"I \", \"Xe\", \n",
        "    \"Cs\", \"Ba\", \"La\", \"Ce\", \"Pr\", \"Nd\", \"Pm\", \"Sm\", \"Eu\", \"Gd\", \"Tb\", \"Dy\", \"Ho\", \"Er\", \"Tm\", \"Yb\", \"Lu\", \"Hf\", \"Ta\", \"W \", \"Re\", \"Os\", \"Ir\", \"Pt\", \"Au\", \"Hg\", \"Tl\", \"Pb\", \"Bi\", \"Po\", \"At\", \"Rn\", \n",
        "    \"Fr\", \"Ra\", \"Ac\", \"Th\", \"Pa\", \"U \", \"Np\", \"Pu\", \"Am\", \"Cm\", \"Bk\", \"Cf\", \"Es\", \"Fm\", \"Md\", \"No\", \"Lr\", \"Rf\", \"Db\", \"Sg\", \"Bh\", \"Hs\", \"Mt\", \"Ds\", \"Rg\", \"Cn\", \"Nh\", \"Fl\", \"Mc\", \"Lv\", \"Ts\", \"Og\"])\n",
        "\n",
        "\n",
        "    R_ix_in  = np.array([[0.,0.,0.],[np.sqrt(2)/2,np.sqrt(2)/2,0.],[np.sqrt(2)/2.,0.,np.sqrt(2)/2.],[0., np.sqrt(2)/2.,np.sqrt(2)/2.]])\n",
        "    R_ix_in *= a/np.sqrt(2)\n",
        "\n",
        "    x_   = a * np.arange(0, la, 1)\n",
        "    y_   = a * np.arange(0, lb, 1)\n",
        "    z_   = a * np.arange(0, lc, 1)\n",
        "    R_Ix = np.array(np.meshgrid(x_, y_, z_))\n",
        "    R_Ix = R_Ix.reshape( (3, len(x_)*len(y_)*len(z_)) , order=\"C\").T\n",
        "\n",
        "    if sphere:\n",
        "        center = np.array([la*a, lb*a, lc*a])/2\n",
        "        ll = (np.array([la, lb, lc]) * a/2)**2\n",
        "        R_Ix = R_Ix[ np.sum( ( R_Ix - center[None,:] )**2 / ll[None,:], axis = 1 ) < 1 ]\n",
        "\n",
        "    R_ix = (R_ix_in[None, :, :] + R_Ix[:,None,:]).reshape((R_Ix.shape[0]*R_ix_in.shape[0], 3), order=\"C\")\n",
        "\n",
        "    Z = np.tile(element, len(R_ix)).astype(np.int8)\n",
        "    mass = Z_mass[Z]\n",
        "\n",
        "    CofM  = mass @ R_ix / np.sum(mass)\n",
        "    R_ix -= (CofM - CoM)\n",
        "    if names:\n",
        "        return Z, R_ix, mass, Atom_Names[Z]\n",
        "    else:\n",
        "        return Z, R_ix, mass"
      ],
      "metadata": {
        "id": "hfuSY_87ZKNq"
      },
      "execution_count": 12,
      "outputs": []
    },
    {
      "cell_type": "code",
      "source": [
        "Z, R_ix, m_i, Zname = FCClattice(5.26, 54, 60, 30, 30, sphere=False, CoM=np.array([1.,1.,2.]), names=True)\n",
        "\n",
        "print( m_i @ R_ix / np.sum(m_i) )\n",
        "print( Zname )"
      ],
      "metadata": {
        "id": "qvqzTOrbfVLi",
        "outputId": "46e1c94f-38a7-4e3c-b228-48d3c7dff18f",
        "colab": {
          "base_uri": "https://localhost:8080/"
        }
      },
      "execution_count": 3,
      "outputs": [
        {
          "output_type": "stream",
          "name": "stdout",
          "text": [
            "[1. 1. 2.]\n",
            "['Xe' 'Xe' 'Xe' ... 'Xe' 'Xe' 'Xe']\n"
          ]
        }
      ]
    },
    {
      "cell_type": "code",
      "source": [
        "### inputs\n",
        "å = 5.26 ## Å, lattice parameter\n",
        "l = 33\n",
        "\n",
        "la = l\n",
        "lb = l\n",
        "lc = l\n",
        "\n",
        "center = np.array([la*å, lb*å, lc*å])/2\n",
        "\n",
        "x_  = np.arange(0, la, 1)*å\n",
        "y_  = np.arange(0, lb, 1)*å\n",
        "z_  = np.arange(0, lc, 1)*å\n",
        "xyz = np.array(np.meshgrid(x_, y_, z_))\n",
        "\n",
        "R_Ix = xyz.reshape( (3, len(x_)*len(y_)*len(z_)) , order=\"C\").T"
      ],
      "metadata": {
        "id": "v4uzDwyAE-Yk"
      },
      "execution_count": 4,
      "outputs": []
    },
    {
      "cell_type": "markdown",
      "source": [
        "Chop to get Sphere"
      ],
      "metadata": {
        "id": "zdoiEoozVXZz"
      }
    },
    {
      "cell_type": "code",
      "source": [
        "R_Ix = R_Ix[ np.linalg.norm( R_Ix - center[None,:], axis=1) < l*å/2 ]\n",
        "R_Ix.shape"
      ],
      "metadata": {
        "colab": {
          "base_uri": "https://localhost:8080/"
        },
        "id": "upWpVEtcUMl7",
        "outputId": "a77704d2-894d-4f4b-a343-d13c4974c64e"
      },
      "execution_count": 5,
      "outputs": [
        {
          "output_type": "execute_result",
          "data": {
            "text/plain": [
              "(18656, 3)"
            ]
          },
          "metadata": {},
          "execution_count": 5
        }
      ]
    },
    {
      "cell_type": "markdown",
      "source": [
        "Get Unit Cell Vectors"
      ],
      "metadata": {
        "id": "4VsNhnEEXlgh"
      }
    },
    {
      "cell_type": "code",
      "source": [
        "R_ix_in = np.array([[0.,0.,0.],[np.sqrt(2)/2,np.sqrt(2)/2,0.],[np.sqrt(2)/2.,0.,np.sqrt(2)/2.],[0., np.sqrt(2)/2.,np.sqrt(2)/2.]])* (å/np.sqrt(2))\n",
        "R_ix_in"
      ],
      "metadata": {
        "colab": {
          "base_uri": "https://localhost:8080/"
        },
        "id": "HBs_vAymFS5E",
        "outputId": "e62dabbb-8f09-4285-e4bb-da38f88205a8"
      },
      "execution_count": 6,
      "outputs": [
        {
          "output_type": "execute_result",
          "data": {
            "text/plain": [
              "array([[0.  , 0.  , 0.  ],\n",
              "       [2.63, 2.63, 0.  ],\n",
              "       [2.63, 0.  , 2.63],\n",
              "       [0.  , 2.63, 2.63]])"
            ]
          },
          "metadata": {},
          "execution_count": 6
        }
      ]
    },
    {
      "cell_type": "code",
      "source": [
        "R_Iix = (R_ix_in[None, :, :] + R_Ix[:,None,:])\n",
        "\n",
        "R_ix = R_Iix.reshape((R_Ix.shape[0]*R_ix_in.shape[0], 3), order=\"C\")\n",
        "R_ix.shape"
      ],
      "metadata": {
        "colab": {
          "base_uri": "https://localhost:8080/"
        },
        "id": "Cw0DXQfrG2JA",
        "outputId": "5b079ea8-cc5a-4e4d-ad08-92fa71b24ac7"
      },
      "execution_count": 7,
      "outputs": [
        {
          "output_type": "execute_result",
          "data": {
            "text/plain": [
              "(74624, 3)"
            ]
          },
          "metadata": {},
          "execution_count": 7
        }
      ]
    },
    {
      "cell_type": "code",
      "source": [
        "string = str(len(R_ix)) + \"\\n\\t\\n\"\n",
        "for i in range(len(R_ix)):\n",
        "    string += \"Ar  \" + strr(R_ix[i,0]) + \"  \" + strr(R_ix[i,1]) + \"  \" + strr(R_ix[i,2]) + \" \\n\"\n",
        "\n",
        "file1 = open(\"argoncrystal.xyz\", \"w\")  # write mode\n",
        "file1.write(string)\n",
        "file1.close()"
      ],
      "metadata": {
        "id": "NPcndChiHL8O"
      },
      "execution_count": 8,
      "outputs": []
    },
    {
      "cell_type": "code",
      "source": [
        "Z, R_ix, m_i = FCClattice(5.26, 18, 60, 30, 30, sphere=True)\n",
        "\n",
        "string = str(len(R_ix)) + \"\\n\\t\\n\"\n",
        "for i in range(len(R_ix)):\n",
        "    #string += \"Ar  \" + strr(R_ix[i,0]) + \"  \" + strr(R_ix[i,1]) + \"  \" + strr(R_ix[i,2]) + \" \\n\"\n",
        "    string += str(Z[i]) + \"  \" + strr(R_ix[i,0]) + \"  \" + strr(R_ix[i,1]) + \"  \" + strr(R_ix[i,2]) + \" \\n\"\n",
        "\n",
        "file1 = open(\"argoncrystal.xyz\", \"w\")  # write mode\n",
        "file1.write(string)\n",
        "file1.close()"
      ],
      "metadata": {
        "id": "2i7Flt1HKEG9"
      },
      "execution_count": 9,
      "outputs": []
    },
    {
      "cell_type": "code",
      "source": [
        "R_ix"
      ],
      "metadata": {
        "id": "uA78SIjfeXsa",
        "outputId": "45ace4a5-090b-492c-899f-82b73b3fdd32",
        "colab": {
          "base_uri": "https://localhost:8080/"
        }
      },
      "execution_count": 10,
      "outputs": [
        {
          "output_type": "execute_result",
          "data": {
            "text/plain": [
              "array([[-53.87309212, -74.93404606, -11.81404606],\n",
              "       [-51.24309212, -72.30404606, -11.81404606],\n",
              "       [-51.24309212, -74.93404606,  -9.18404606],\n",
              "       ...,\n",
              "       [ 53.95690788,  74.97595394,   3.96595394],\n",
              "       [ 53.95690788,  72.34595394,   6.59595394],\n",
              "       [ 51.32690788,  74.97595394,   6.59595394]])"
            ]
          },
          "metadata": {},
          "execution_count": 10
        }
      ]
    },
    {
      "cell_type": "code",
      "source": [
        "!git clone https://github.com/jcandane/pyprototyp\n",
        "from pyprototyp.pyprototyp import pyprototyp\n",
        "pyprototyp(\"fcc\", packages=[], useful=[], defs=[FCClattice], classes=[])"
      ],
      "metadata": {
        "colab": {
          "base_uri": "https://localhost:8080/"
        },
        "id": "Nw7xRuj8jBQH",
        "outputId": "b06c4e40-4b09-4432-e80b-0878bcd920a5"
      },
      "execution_count": 11,
      "outputs": [
        {
          "output_type": "stream",
          "name": "stdout",
          "text": [
            "fatal: destination path 'pyprototyp' already exists and is not an empty directory.\n"
          ]
        }
      ]
    }
  ]
}